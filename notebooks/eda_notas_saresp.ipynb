{
 "cells": [
  {
   "cell_type": "code",
   "execution_count": 2,
   "metadata": {},
   "outputs": [],
   "source": [
    "import pandas as pd\n",
    "import numpy as np \n",
    "import os\n",
    "import re\n",
    "from pathlib import Path\n",
    "import datetime as dt \n",
    "import plotly.express as px\n",
    "import plotly.graph_objects as go\n",
    "import seaborn as sns"
   ]
  },
  {
   "cell_type": "code",
   "execution_count": 3,
   "metadata": {},
   "outputs": [],
   "source": [
    "########Função para carregar todos os arquivos csv em uma pasta e converter em dataframe########\n",
    "def load_all_csv(folder_name,sep):\n",
    "    \"\"\"Carrega todos os arquivos do tipo CSV de uma pasta\n",
    "    e retorna uma lista de dataframes \n",
    "    \n",
    "    Arguments:\n",
    "        folder_name {str} -- string com o nome da pasta onde estão os arquivos\n",
    "        sep {str} -- string com o tipo de separador ';'; ',', etc.\n",
    "    \n",
    "    Returns:\n",
    "        list -- lista com os arquivos convertidos em DataFrame\n",
    "    \"\"\"    \n",
    "    #formata nome do caminho\n",
    "    path_name = folder_name+'/'\n",
    "    #cria array com todos os arquivos do diretório\n",
    "    n_path = np.array(os.listdir(path_name))\n",
    "    print('#verificando diretório: {}'.format(n_path))\n",
    "    #cria dataframe de retorno\n",
    "    df_list = list()\n",
    "    #itera sobre o array de arquivos listados na pasta\n",
    "    for filename in np.nditer(n_path):\n",
    "        print('#inicio carregamento de arquivo {}'.format(filename))\n",
    "        #verifica se o arquivo é csv\n",
    "        if 'csv' in str(filename):\n",
    "            #concatena o nome do caminho com o nome do arquivo\n",
    "            arch = str(path_name) + str(filename)\n",
    "            with open(arch,encoding='UTF-8') as f:\n",
    "                df_temp = pd.read_csv(f,sep=sep,error_bad_lines=False)\n",
    "            #adiciona o nome do arquivo no dataframe\n",
    "            df_temp['arquivo'] = filename\n",
    "            #adiciona dataframe na lista\n",
    "            df_list.append(df_temp)\n",
    "    return df_list\n"
   ]
  },
  {
   "cell_type": "code",
   "execution_count": 4,
   "metadata": {},
   "outputs": [],
   "source": [
    "#cria dataframe auxiliar\n",
    "def create_df_aux(dataframe):\n",
    "    \"\"\"Cria um dataframe de especificações do dataframe passado\n",
    "    \n",
    "    Arguments:\n",
    "        dataframe {DataFrame} -- dataframe passado para análise\n",
    "    \n",
    "    Returns:\n",
    "        DataFrame -- DataFrame {\n",
    "            colunas: nome das colunas \n",
    "            tipos_dados: tipos de dados de cada coluna\n",
    "            total_registros: total de registros de cada coluna\n",
    "            NA #: número de registros nulos de cada coluna\n",
    "            NA %: porcentagem de registros nulos de cada coluna\n",
    "        }\n",
    "    \"\"\"    \n",
    "    df_return = pd.DataFrame({\n",
    "        'colunas' : dataframe.columns,\n",
    "        'tipos_dados' : dataframe.dtypes,\n",
    "        'total_registros' : dataframe.count(),\n",
    "        'NA #': dataframe.isna().sum(),\n",
    "        'NA %': (dataframe.isna().sum() / dataframe.shape[0]) * 100\n",
    "    },index=None)\n",
    "    return df_return\n",
    "\n",
    "def convert_to_categorical(dataframe,columns):\n",
    "    \"\"\"converte uma lista de colunas para o tipo category\n",
    "    \n",
    "    Arguments:\n",
    "        dataframe {DataFrame} -- dataframe que contém as colunas para conversão\n",
    "        columns {list} -- lista com o nome das colunas\n",
    "    \n",
    "    Returns:\n",
    "        DataFrame -- dataframe com as colunas convertidas\n",
    "    \"\"\"    \n",
    "    for col in columns:\n",
    "        dataframe[col] = dataframe[col].astype('category')\n",
    "    return dataframe"
   ]
  },
  {
   "cell_type": "code",
   "execution_count": 5,
   "metadata": {},
   "outputs": [
    {
     "name": "stdout",
     "output_type": "stream",
     "text": "#verificando diretório: ['SARESP_escolas_2016.csv' 'SARESP_escolas_2017.csv'\n 'SARESP_escolas_2015.csv' 'SARESP_escolas_2014.csv'\n 'SARESP_escolas_2011.csv' 'SARESP_escolas_2013.csv'\n 'SARESP_escolas_2012.csv' 'SARESP_escolas_2018.csv']\n#inicio carregamento de arquivo SARESP_escolas_2016.csv\n#inicio carregamento de arquivo SARESP_escolas_2017.csv\n#inicio carregamento de arquivo SARESP_escolas_2015.csv\n#inicio carregamento de arquivo SARESP_escolas_2014.csv\n#inicio carregamento de arquivo SARESP_escolas_2011.csv\n#inicio carregamento de arquivo SARESP_escolas_2013.csv\n#inicio carregamento de arquivo SARESP_escolas_2012.csv\n#inicio carregamento de arquivo SARESP_escolas_2018.csv\n"
    }
   ],
   "source": [
    "#carregando todos os arquivos em uma lista, ja convertidos em dataframes\n",
    "ls_resultado_saresp = load_all_csv('../raw_data/saresp_resultado',';')\n",
    "\n"
   ]
  },
  {
   "cell_type": "markdown",
   "execution_count": null,
   "metadata": {},
   "outputs": [],
   "source": [
    "# Perguntas\n",
    "1. Como estão os comportamentos das notas com relação à média, moda, mediana, máximo e mínimo\n",
    "2. Como as notas evoluem por competência ao longo dos anos\n",
    "3. Quais são as notas "
   ]
  },
  {
   "cell_type": "code",
   "execution_count": 6,
   "metadata": {},
   "outputs": [
    {
     "data": {
      "text/html": "<div>\n<style scoped>\n    .dataframe tbody tr th:only-of-type {\n        vertical-align: middle;\n    }\n\n    .dataframe tbody tr th {\n        vertical-align: top;\n    }\n\n    .dataframe thead th {\n        text-align: right;\n    }\n</style>\n<table border=\"1\" class=\"dataframe\">\n  <thead>\n    <tr style=\"text-align: right;\">\n      <th></th>\n      <th>DEPADM</th>\n      <th>DepBol</th>\n      <th>NomeDepBol</th>\n      <th>CODESC</th>\n      <th>NOMESC</th>\n      <th>SERIE_ANO</th>\n      <th>cod_per</th>\n      <th>periodo</th>\n      <th>co_comp</th>\n      <th>ds_comp</th>\n      <th>medprof</th>\n      <th>arquivo</th>\n    </tr>\n  </thead>\n  <tbody>\n    <tr>\n      <th>0</th>\n      <td>1</td>\n      <td>1</td>\n      <td>Rede Estadual</td>\n      <td>12</td>\n      <td>AYRES DE MOURA PROF                           ...</td>\n      <td>7º Ano EF</td>\n      <td>1</td>\n      <td>MANHA</td>\n      <td>1</td>\n      <td>LÍNGUA PORTUGUESA</td>\n      <td>196,1</td>\n      <td>SARESP_escolas_2011.csv</td>\n    </tr>\n    <tr>\n      <th>1</th>\n      <td>1</td>\n      <td>1</td>\n      <td>Rede Estadual</td>\n      <td>12</td>\n      <td>AYRES DE MOURA PROF                           ...</td>\n      <td>7º Ano EF</td>\n      <td>1</td>\n      <td>MANHA</td>\n      <td>2</td>\n      <td>MATEMÁTICA</td>\n      <td>207,2</td>\n      <td>SARESP_escolas_2011.csv</td>\n    </tr>\n    <tr>\n      <th>2</th>\n      <td>1</td>\n      <td>1</td>\n      <td>Rede Estadual</td>\n      <td>12</td>\n      <td>AYRES DE MOURA PROF                           ...</td>\n      <td>7º Ano EF</td>\n      <td>1</td>\n      <td>MANHA</td>\n      <td>5</td>\n      <td>GEOGRAFIA</td>\n      <td>213,3</td>\n      <td>SARESP_escolas_2011.csv</td>\n    </tr>\n    <tr>\n      <th>3</th>\n      <td>1</td>\n      <td>1</td>\n      <td>Rede Estadual</td>\n      <td>12</td>\n      <td>AYRES DE MOURA PROF                           ...</td>\n      <td>7º Ano EF</td>\n      <td>1</td>\n      <td>MANHA</td>\n      <td>6</td>\n      <td>HISTÓRIA</td>\n      <td>216</td>\n      <td>SARESP_escolas_2011.csv</td>\n    </tr>\n    <tr>\n      <th>4</th>\n      <td>1</td>\n      <td>1</td>\n      <td>Rede Estadual</td>\n      <td>12</td>\n      <td>AYRES DE MOURA PROF                           ...</td>\n      <td>7º Ano EF</td>\n      <td>9</td>\n      <td>GERAL</td>\n      <td>1</td>\n      <td>LÍNGUA PORTUGUESA</td>\n      <td>196,1</td>\n      <td>SARESP_escolas_2011.csv</td>\n    </tr>\n    <tr>\n      <th>...</th>\n      <td>...</td>\n      <td>...</td>\n      <td>...</td>\n      <td>...</td>\n      <td>...</td>\n      <td>...</td>\n      <td>...</td>\n      <td>...</td>\n      <td>...</td>\n      <td>...</td>\n      <td>...</td>\n      <td>...</td>\n    </tr>\n    <tr>\n      <th>109927</th>\n      <td>1</td>\n      <td>1</td>\n      <td>Rede Estadual</td>\n      <td>926097</td>\n      <td>BAIRRO SERRA DO INDAIA                        ...</td>\n      <td>9º Ano EF</td>\n      <td>9</td>\n      <td>GERAL</td>\n      <td>6</td>\n      <td>HISTÓRIA</td>\n      <td>269,1</td>\n      <td>SARESP_escolas_2011.csv</td>\n    </tr>\n    <tr>\n      <th>109928</th>\n      <td>1</td>\n      <td>1</td>\n      <td>Rede Estadual</td>\n      <td>926103</td>\n      <td>PARQUE NACOES UNIDAS II                       ...</td>\n      <td>5º Ano EF</td>\n      <td>1</td>\n      <td>MANHA</td>\n      <td>1</td>\n      <td>LÍNGUA PORTUGUESA</td>\n      <td>194</td>\n      <td>SARESP_escolas_2011.csv</td>\n    </tr>\n    <tr>\n      <th>109929</th>\n      <td>1</td>\n      <td>1</td>\n      <td>Rede Estadual</td>\n      <td>926103</td>\n      <td>PARQUE NACOES UNIDAS II                       ...</td>\n      <td>5º Ano EF</td>\n      <td>1</td>\n      <td>MANHA</td>\n      <td>2</td>\n      <td>MATEMÁTICA</td>\n      <td>221,8</td>\n      <td>SARESP_escolas_2011.csv</td>\n    </tr>\n    <tr>\n      <th>109930</th>\n      <td>1</td>\n      <td>1</td>\n      <td>Rede Estadual</td>\n      <td>926103</td>\n      <td>PARQUE NACOES UNIDAS II                       ...</td>\n      <td>5º Ano EF</td>\n      <td>9</td>\n      <td>GERAL</td>\n      <td>1</td>\n      <td>LÍNGUA PORTUGUESA</td>\n      <td>194</td>\n      <td>SARESP_escolas_2011.csv</td>\n    </tr>\n    <tr>\n      <th>109931</th>\n      <td>1</td>\n      <td>1</td>\n      <td>Rede Estadual</td>\n      <td>926103</td>\n      <td>PARQUE NACOES UNIDAS II                       ...</td>\n      <td>5º Ano EF</td>\n      <td>9</td>\n      <td>GERAL</td>\n      <td>2</td>\n      <td>MATEMÁTICA</td>\n      <td>221,8</td>\n      <td>SARESP_escolas_2011.csv</td>\n    </tr>\n  </tbody>\n</table>\n<p>109932 rows × 12 columns</p>\n</div>",
      "text/plain": "        DEPADM  DepBol     NomeDepBol  CODESC  \\\n0            1       1  Rede Estadual      12   \n1            1       1  Rede Estadual      12   \n2            1       1  Rede Estadual      12   \n3            1       1  Rede Estadual      12   \n4            1       1  Rede Estadual      12   \n...        ...     ...            ...     ...   \n109927       1       1  Rede Estadual  926097   \n109928       1       1  Rede Estadual  926103   \n109929       1       1  Rede Estadual  926103   \n109930       1       1  Rede Estadual  926103   \n109931       1       1  Rede Estadual  926103   \n\n                                                   NOMESC  SERIE_ANO  cod_per  \\\n0       AYRES DE MOURA PROF                           ...  7º Ano EF        1   \n1       AYRES DE MOURA PROF                           ...  7º Ano EF        1   \n2       AYRES DE MOURA PROF                           ...  7º Ano EF        1   \n3       AYRES DE MOURA PROF                           ...  7º Ano EF        1   \n4       AYRES DE MOURA PROF                           ...  7º Ano EF        9   \n...                                                   ...        ...      ...   \n109927  BAIRRO SERRA DO INDAIA                        ...  9º Ano EF        9   \n109928  PARQUE NACOES UNIDAS II                       ...  5º Ano EF        1   \n109929  PARQUE NACOES UNIDAS II                       ...  5º Ano EF        1   \n109930  PARQUE NACOES UNIDAS II                       ...  5º Ano EF        9   \n109931  PARQUE NACOES UNIDAS II                       ...  5º Ano EF        9   \n\n       periodo  co_comp            ds_comp medprof                  arquivo  \n0        MANHA        1  LÍNGUA PORTUGUESA   196,1  SARESP_escolas_2011.csv  \n1        MANHA        2         MATEMÁTICA   207,2  SARESP_escolas_2011.csv  \n2        MANHA        5          GEOGRAFIA   213,3  SARESP_escolas_2011.csv  \n3        MANHA        6           HISTÓRIA     216  SARESP_escolas_2011.csv  \n4        GERAL        1  LÍNGUA PORTUGUESA   196,1  SARESP_escolas_2011.csv  \n...        ...      ...                ...     ...                      ...  \n109927   GERAL        6           HISTÓRIA   269,1  SARESP_escolas_2011.csv  \n109928   MANHA        1  LÍNGUA PORTUGUESA     194  SARESP_escolas_2011.csv  \n109929   MANHA        2         MATEMÁTICA   221,8  SARESP_escolas_2011.csv  \n109930   GERAL        1  LÍNGUA PORTUGUESA     194  SARESP_escolas_2011.csv  \n109931   GERAL        2         MATEMÁTICA   221,8  SARESP_escolas_2011.csv  \n\n[109932 rows x 12 columns]"
     },
     "execution_count": 6,
     "metadata": {},
     "output_type": "execute_result"
    }
   ],
   "source": [
    "# Análises Descritiva resultados Saresp 2011 à 2018\n",
    "ls_resultado_saresp[4]"
   ]
  },
  {
   "cell_type": "code",
   "execution_count": 7,
   "metadata": {},
   "outputs": [],
   "source": [
    "#inserindo coluna codRMet no dataframe de 2011 index [4]\n",
    "df_temp = ls_resultado_saresp[4]\n",
    "df_temp.insert(loc=3,column='codRMet',value='Unknow')"
   ]
  },
  {
   "cell_type": "code",
   "execution_count": 8,
   "metadata": {},
   "outputs": [],
   "source": [
    "#remove item da lista\n",
    "del ls_resultado_saresp[4]"
   ]
  },
  {
   "cell_type": "code",
   "execution_count": 9,
   "metadata": {},
   "outputs": [],
   "source": [
    "#adiciona dataframe com a coluna faltante adicionada\n",
    "ls_resultado_saresp.append(df_temp)\n",
    "\n"
   ]
  },
  {
   "cell_type": "code",
   "execution_count": 10,
   "metadata": {},
   "outputs": [
    {
     "name": "stdout",
     "output_type": "stream",
     "text": "<class 'pandas.core.frame.DataFrame'>\nRangeIndex: 556996 entries, 0 to 556995\nData columns (total 13 columns):\n #   Column      Non-Null Count   Dtype \n---  ------      --------------   ----- \n 0   DEPADM      556996 non-null  int64 \n 1   DepBol      556996 non-null  int64 \n 2   NomeDepBol  556996 non-null  object\n 3   codRMet     556996 non-null  object\n 4   CODESC      556996 non-null  int64 \n 5   NOMESC      556996 non-null  object\n 6   SERIE_ANO   556996 non-null  object\n 7   cod_per     556996 non-null  int64 \n 8   periodo     556996 non-null  object\n 9   co_comp     556996 non-null  int64 \n 10  ds_comp     556996 non-null  object\n 11  medprof     554884 non-null  object\n 12  arquivo     556996 non-null  object\ndtypes: int64(5), object(8)\nmemory usage: 55.2+ MB\n"
    }
   ],
   "source": [
    "#cria um único dataframe concatenando a lista com os demais\n",
    "df_completo = pd.DataFrame()\n",
    "for df in ls_resultado_saresp:\n",
    "    df_completo = pd.concat([df_completo,df],\n",
    "    sort=False,ignore_index=True)\n",
    "df_completo.info()\n"
   ]
  },
  {
   "cell_type": "code",
   "execution_count": 11,
   "metadata": {},
   "outputs": [],
   "source": [
    "#Transformação dos dataframe nota_saresp\n",
    "df_completo['arquivo'] = df_completo['arquivo'].str.extract(r'(\\d+)')\n",
    "df_completo['medprof'] = df_completo['medprof'].str.replace(',','.').astype('float')"
   ]
  },
  {
   "cell_type": "code",
   "execution_count": 12,
   "metadata": {},
   "outputs": [],
   "source": [
    "df_completo['arquivo'] = pd.to_datetime(df_completo['arquivo'],format='%Y')"
   ]
  },
  {
   "cell_type": "markdown",
   "execution_count": null,
   "metadata": {},
   "outputs": [],
   "source": [
    "# Perguntas\n",
    "1. Como está o comportamento das notas independente de período com relação à média, moda, mediana, máximo e mínimo;\n",
    "2. Como as notas evoluem por competência ao longo dos anos;\n",
    "3. Quais são as notas por série para as competências de Matemática e Português;\n",
    "4. Quais as porcentagens das escolas de acordo com os níveis de proficiência;\n",
    "5. Qual a correlação entre as variáveis com a nota das competências;"
   ]
  },
  {
   "cell_type": "code",
   "execution_count": 13,
   "metadata": {},
   "outputs": [
    {
     "data": {
      "text/html": "<div>\n<style scoped>\n    .dataframe tbody tr th:only-of-type {\n        vertical-align: middle;\n    }\n\n    .dataframe tbody tr th {\n        vertical-align: top;\n    }\n\n    .dataframe thead th {\n        text-align: right;\n    }\n</style>\n<table border=\"1\" class=\"dataframe\">\n  <thead>\n    <tr style=\"text-align: right;\">\n      <th></th>\n      <th>colunas</th>\n      <th>tipos_dados</th>\n      <th>total_registros</th>\n      <th>NA #</th>\n      <th>NA %</th>\n    </tr>\n  </thead>\n  <tbody>\n    <tr>\n      <th>DEPADM</th>\n      <td>DEPADM</td>\n      <td>int64</td>\n      <td>556996</td>\n      <td>0</td>\n      <td>0.000000</td>\n    </tr>\n    <tr>\n      <th>DepBol</th>\n      <td>DepBol</td>\n      <td>int64</td>\n      <td>556996</td>\n      <td>0</td>\n      <td>0.000000</td>\n    </tr>\n    <tr>\n      <th>NomeDepBol</th>\n      <td>NomeDepBol</td>\n      <td>object</td>\n      <td>556996</td>\n      <td>0</td>\n      <td>0.000000</td>\n    </tr>\n    <tr>\n      <th>codRMet</th>\n      <td>codRMet</td>\n      <td>object</td>\n      <td>556996</td>\n      <td>0</td>\n      <td>0.000000</td>\n    </tr>\n    <tr>\n      <th>CODESC</th>\n      <td>CODESC</td>\n      <td>int64</td>\n      <td>556996</td>\n      <td>0</td>\n      <td>0.000000</td>\n    </tr>\n    <tr>\n      <th>NOMESC</th>\n      <td>NOMESC</td>\n      <td>object</td>\n      <td>556996</td>\n      <td>0</td>\n      <td>0.000000</td>\n    </tr>\n    <tr>\n      <th>SERIE_ANO</th>\n      <td>SERIE_ANO</td>\n      <td>object</td>\n      <td>556996</td>\n      <td>0</td>\n      <td>0.000000</td>\n    </tr>\n    <tr>\n      <th>cod_per</th>\n      <td>cod_per</td>\n      <td>int64</td>\n      <td>556996</td>\n      <td>0</td>\n      <td>0.000000</td>\n    </tr>\n    <tr>\n      <th>periodo</th>\n      <td>periodo</td>\n      <td>object</td>\n      <td>556996</td>\n      <td>0</td>\n      <td>0.000000</td>\n    </tr>\n    <tr>\n      <th>co_comp</th>\n      <td>co_comp</td>\n      <td>int64</td>\n      <td>556996</td>\n      <td>0</td>\n      <td>0.000000</td>\n    </tr>\n    <tr>\n      <th>ds_comp</th>\n      <td>ds_comp</td>\n      <td>object</td>\n      <td>556996</td>\n      <td>0</td>\n      <td>0.000000</td>\n    </tr>\n    <tr>\n      <th>medprof</th>\n      <td>medprof</td>\n      <td>float64</td>\n      <td>554884</td>\n      <td>2112</td>\n      <td>0.379177</td>\n    </tr>\n    <tr>\n      <th>arquivo</th>\n      <td>arquivo</td>\n      <td>datetime64[ns]</td>\n      <td>556996</td>\n      <td>0</td>\n      <td>0.000000</td>\n    </tr>\n  </tbody>\n</table>\n</div>",
      "text/plain": "               colunas     tipos_dados  total_registros  NA #      NA %\nDEPADM          DEPADM           int64           556996     0  0.000000\nDepBol          DepBol           int64           556996     0  0.000000\nNomeDepBol  NomeDepBol          object           556996     0  0.000000\ncodRMet        codRMet          object           556996     0  0.000000\nCODESC          CODESC           int64           556996     0  0.000000\nNOMESC          NOMESC          object           556996     0  0.000000\nSERIE_ANO    SERIE_ANO          object           556996     0  0.000000\ncod_per        cod_per           int64           556996     0  0.000000\nperiodo        periodo          object           556996     0  0.000000\nco_comp        co_comp           int64           556996     0  0.000000\nds_comp        ds_comp          object           556996     0  0.000000\nmedprof        medprof         float64           554884  2112  0.379177\narquivo        arquivo  datetime64[ns]           556996     0  0.000000"
     },
     "execution_count": 13,
     "metadata": {},
     "output_type": "execute_result"
    }
   ],
   "source": [
    "#visualização do novo dataframe\n",
    "create_df_aux(df_completo)\n"
   ]
  },
  {
   "cell_type": "code",
   "execution_count": 14,
   "metadata": {},
   "outputs": [],
   "source": [
    "df_competencias = df_completo.groupby(['ds_comp','arquivo'])['medprof'].mean().reset_index()"
   ]
  },
  {
   "cell_type": "code",
   "execution_count": 15,
   "metadata": {},
   "outputs": [
    {
     "data": {
      "application/vnd.plotly.v1+json": {
       "config": {
        "plotlyServerURL": "https://plot.ly"
       },
       "data": [
        {
         "hovertemplate": "color=CIÊNCIAS<br>Ano=%{x}<br>Nota Competência=%{y}<extra></extra>",
         "legendgroup": "CIÊNCIAS",
         "marker": {
          "color": "#636efa",
          "symbol": "circle"
         },
         "mode": "lines+markers",
         "name": "CIÊNCIAS",
         "showlegend": true,
         "type": "scatter",
         "x": [
          "2012-01-01T00:00:00",
          "2014-01-01T00:00:00"
         ],
         "xaxis": "x",
         "y": [
          249.52885681701912,
          258.5439305249002
         ],
         "yaxis": "y"
        },
        {
         "hovertemplate": "color=GEOGRAFIA<br>Ano=%{x}<br>Nota Competência=%{y}<extra></extra>",
         "legendgroup": "GEOGRAFIA",
         "marker": {
          "color": "#EF553B",
          "symbol": "circle"
         },
         "mode": "lines+markers",
         "name": "GEOGRAFIA",
         "showlegend": true,
         "type": "scatter",
         "x": [
          "2011-01-01T00:00:00",
          "2013-01-01T00:00:00"
         ],
         "xaxis": "x",
         "y": [
          252.14693540133075,
          250.9037548315847
         ],
         "yaxis": "y"
        },
        {
         "hovertemplate": "color=HISTÓRIA<br>Ano=%{x}<br>Nota Competência=%{y}<extra></extra>",
         "legendgroup": "HISTÓRIA",
         "marker": {
          "color": "#00cc96",
          "symbol": "circle"
         },
         "mode": "lines+markers",
         "name": "HISTÓRIA",
         "showlegend": true,
         "type": "scatter",
         "x": [
          "2011-01-01T00:00:00",
          "2013-01-01T00:00:00"
         ],
         "xaxis": "x",
         "y": [
          252.87184584497794,
          254.13501222686574
         ],
         "yaxis": "y"
        },
        {
         "hovertemplate": "color=LÍNGUA PORTUGUESA<br>Ano=%{x}<br>Nota Competência=%{y}<extra></extra>",
         "legendgroup": "LÍNGUA PORTUGUESA",
         "marker": {
          "color": "#ab63fa",
          "symbol": "circle"
         },
         "mode": "lines+markers",
         "name": "LÍNGUA PORTUGUESA",
         "showlegend": true,
         "type": "scatter",
         "x": [
          "2011-01-01T00:00:00",
          "2012-01-01T00:00:00",
          "2013-01-01T00:00:00",
          "2014-01-01T00:00:00",
          "2015-01-01T00:00:00",
          "2016-01-01T00:00:00",
          "2017-01-01T00:00:00",
          "2018-01-01T00:00:00"
         ],
         "xaxis": "x",
         "y": [
          230.5605824848637,
          232.33034915867108,
          230.36711293007727,
          232.3375700733072,
          236.3714015007942,
          237.2631161328088,
          241.1886253167739,
          246.95298851702861
         ],
         "yaxis": "y"
        },
        {
         "hovertemplate": "color=MATEMÁTICA<br>Ano=%{x}<br>Nota Competência=%{y}<extra></extra>",
         "legendgroup": "MATEMÁTICA",
         "marker": {
          "color": "#FFA15A",
          "symbol": "circle"
         },
         "mode": "lines+markers",
         "name": "MATEMÁTICA",
         "showlegend": true,
         "type": "scatter",
         "x": [
          "2011-01-01T00:00:00",
          "2012-01-01T00:00:00",
          "2013-01-01T00:00:00",
          "2014-01-01T00:00:00",
          "2015-01-01T00:00:00",
          "2016-01-01T00:00:00",
          "2017-01-01T00:00:00",
          "2018-01-01T00:00:00"
         ],
         "xaxis": "x",
         "y": [
          241.04627067618188,
          240.29088706099324,
          240.5532567980015,
          242.79860637189668,
          253.0337556732225,
          248.56578783778602,
          253.25834995015032,
          255.38076356855447
         ],
         "yaxis": "y"
        }
       ],
       "layout": {
        "legend": {
         "title": {
          "text": "color"
         },
         "tracegroupgap": 0
        },
        "margin": {
         "t": 60
        },
        "template": {
         "data": {
          "bar": [
           {
            "error_x": {
             "color": "#2a3f5f"
            },
            "error_y": {
             "color": "#2a3f5f"
            },
            "marker": {
             "line": {
              "color": "#E5ECF6",
              "width": 0.5
             }
            },
            "type": "bar"
           }
          ],
          "barpolar": [
           {
            "marker": {
             "line": {
              "color": "#E5ECF6",
              "width": 0.5
             }
            },
            "type": "barpolar"
           }
          ],
          "carpet": [
           {
            "aaxis": {
             "endlinecolor": "#2a3f5f",
             "gridcolor": "white",
             "linecolor": "white",
             "minorgridcolor": "white",
             "startlinecolor": "#2a3f5f"
            },
            "baxis": {
             "endlinecolor": "#2a3f5f",
             "gridcolor": "white",
             "linecolor": "white",
             "minorgridcolor": "white",
             "startlinecolor": "#2a3f5f"
            },
            "type": "carpet"
           }
          ],
          "choropleth": [
           {
            "colorbar": {
             "outlinewidth": 0,
             "ticks": ""
            },
            "type": "choropleth"
           }
          ],
          "contour": [
           {
            "colorbar": {
             "outlinewidth": 0,
             "ticks": ""
            },
            "colorscale": [
             [
              0,
              "#0d0887"
             ],
             [
              0.1111111111111111,
              "#46039f"
             ],
             [
              0.2222222222222222,
              "#7201a8"
             ],
             [
              0.3333333333333333,
              "#9c179e"
             ],
             [
              0.4444444444444444,
              "#bd3786"
             ],
             [
              0.5555555555555556,
              "#d8576b"
             ],
             [
              0.6666666666666666,
              "#ed7953"
             ],
             [
              0.7777777777777778,
              "#fb9f3a"
             ],
             [
              0.8888888888888888,
              "#fdca26"
             ],
             [
              1,
              "#f0f921"
             ]
            ],
            "type": "contour"
           }
          ],
          "contourcarpet": [
           {
            "colorbar": {
             "outlinewidth": 0,
             "ticks": ""
            },
            "type": "contourcarpet"
           }
          ],
          "heatmap": [
           {
            "colorbar": {
             "outlinewidth": 0,
             "ticks": ""
            },
            "colorscale": [
             [
              0,
              "#0d0887"
             ],
             [
              0.1111111111111111,
              "#46039f"
             ],
             [
              0.2222222222222222,
              "#7201a8"
             ],
             [
              0.3333333333333333,
              "#9c179e"
             ],
             [
              0.4444444444444444,
              "#bd3786"
             ],
             [
              0.5555555555555556,
              "#d8576b"
             ],
             [
              0.6666666666666666,
              "#ed7953"
             ],
             [
              0.7777777777777778,
              "#fb9f3a"
             ],
             [
              0.8888888888888888,
              "#fdca26"
             ],
             [
              1,
              "#f0f921"
             ]
            ],
            "type": "heatmap"
           }
          ],
          "heatmapgl": [
           {
            "colorbar": {
             "outlinewidth": 0,
             "ticks": ""
            },
            "colorscale": [
             [
              0,
              "#0d0887"
             ],
             [
              0.1111111111111111,
              "#46039f"
             ],
             [
              0.2222222222222222,
              "#7201a8"
             ],
             [
              0.3333333333333333,
              "#9c179e"
             ],
             [
              0.4444444444444444,
              "#bd3786"
             ],
             [
              0.5555555555555556,
              "#d8576b"
             ],
             [
              0.6666666666666666,
              "#ed7953"
             ],
             [
              0.7777777777777778,
              "#fb9f3a"
             ],
             [
              0.8888888888888888,
              "#fdca26"
             ],
             [
              1,
              "#f0f921"
             ]
            ],
            "type": "heatmapgl"
           }
          ],
          "histogram": [
           {
            "marker": {
             "colorbar": {
              "outlinewidth": 0,
              "ticks": ""
             }
            },
            "type": "histogram"
           }
          ],
          "histogram2d": [
           {
            "colorbar": {
             "outlinewidth": 0,
             "ticks": ""
            },
            "colorscale": [
             [
              0,
              "#0d0887"
             ],
             [
              0.1111111111111111,
              "#46039f"
             ],
             [
              0.2222222222222222,
              "#7201a8"
             ],
             [
              0.3333333333333333,
              "#9c179e"
             ],
             [
              0.4444444444444444,
              "#bd3786"
             ],
             [
              0.5555555555555556,
              "#d8576b"
             ],
             [
              0.6666666666666666,
              "#ed7953"
             ],
             [
              0.7777777777777778,
              "#fb9f3a"
             ],
             [
              0.8888888888888888,
              "#fdca26"
             ],
             [
              1,
              "#f0f921"
             ]
            ],
            "type": "histogram2d"
           }
          ],
          "histogram2dcontour": [
           {
            "colorbar": {
             "outlinewidth": 0,
             "ticks": ""
            },
            "colorscale": [
             [
              0,
              "#0d0887"
             ],
             [
              0.1111111111111111,
              "#46039f"
             ],
             [
              0.2222222222222222,
              "#7201a8"
             ],
             [
              0.3333333333333333,
              "#9c179e"
             ],
             [
              0.4444444444444444,
              "#bd3786"
             ],
             [
              0.5555555555555556,
              "#d8576b"
             ],
             [
              0.6666666666666666,
              "#ed7953"
             ],
             [
              0.7777777777777778,
              "#fb9f3a"
             ],
             [
              0.8888888888888888,
              "#fdca26"
             ],
             [
              1,
              "#f0f921"
             ]
            ],
            "type": "histogram2dcontour"
           }
          ],
          "mesh3d": [
           {
            "colorbar": {
             "outlinewidth": 0,
             "ticks": ""
            },
            "type": "mesh3d"
           }
          ],
          "parcoords": [
           {
            "line": {
             "colorbar": {
              "outlinewidth": 0,
              "ticks": ""
             }
            },
            "type": "parcoords"
           }
          ],
          "pie": [
           {
            "automargin": true,
            "type": "pie"
           }
          ],
          "scatter": [
           {
            "marker": {
             "colorbar": {
              "outlinewidth": 0,
              "ticks": ""
             }
            },
            "type": "scatter"
           }
          ],
          "scatter3d": [
           {
            "line": {
             "colorbar": {
              "outlinewidth": 0,
              "ticks": ""
             }
            },
            "marker": {
             "colorbar": {
              "outlinewidth": 0,
              "ticks": ""
             }
            },
            "type": "scatter3d"
           }
          ],
          "scattercarpet": [
           {
            "marker": {
             "colorbar": {
              "outlinewidth": 0,
              "ticks": ""
             }
            },
            "type": "scattercarpet"
           }
          ],
          "scattergeo": [
           {
            "marker": {
             "colorbar": {
              "outlinewidth": 0,
              "ticks": ""
             }
            },
            "type": "scattergeo"
           }
          ],
          "scattergl": [
           {
            "marker": {
             "colorbar": {
              "outlinewidth": 0,
              "ticks": ""
             }
            },
            "type": "scattergl"
           }
          ],
          "scattermapbox": [
           {
            "marker": {
             "colorbar": {
              "outlinewidth": 0,
              "ticks": ""
             }
            },
            "type": "scattermapbox"
           }
          ],
          "scatterpolar": [
           {
            "marker": {
             "colorbar": {
              "outlinewidth": 0,
              "ticks": ""
             }
            },
            "type": "scatterpolar"
           }
          ],
          "scatterpolargl": [
           {
            "marker": {
             "colorbar": {
              "outlinewidth": 0,
              "ticks": ""
             }
            },
            "type": "scatterpolargl"
           }
          ],
          "scatterternary": [
           {
            "marker": {
             "colorbar": {
              "outlinewidth": 0,
              "ticks": ""
             }
            },
            "type": "scatterternary"
           }
          ],
          "surface": [
           {
            "colorbar": {
             "outlinewidth": 0,
             "ticks": ""
            },
            "colorscale": [
             [
              0,
              "#0d0887"
             ],
             [
              0.1111111111111111,
              "#46039f"
             ],
             [
              0.2222222222222222,
              "#7201a8"
             ],
             [
              0.3333333333333333,
              "#9c179e"
             ],
             [
              0.4444444444444444,
              "#bd3786"
             ],
             [
              0.5555555555555556,
              "#d8576b"
             ],
             [
              0.6666666666666666,
              "#ed7953"
             ],
             [
              0.7777777777777778,
              "#fb9f3a"
             ],
             [
              0.8888888888888888,
              "#fdca26"
             ],
             [
              1,
              "#f0f921"
             ]
            ],
            "type": "surface"
           }
          ],
          "table": [
           {
            "cells": {
             "fill": {
              "color": "#EBF0F8"
             },
             "line": {
              "color": "white"
             }
            },
            "header": {
             "fill": {
              "color": "#C8D4E3"
             },
             "line": {
              "color": "white"
             }
            },
            "type": "table"
           }
          ]
         },
         "layout": {
          "annotationdefaults": {
           "arrowcolor": "#2a3f5f",
           "arrowhead": 0,
           "arrowwidth": 1
          },
          "coloraxis": {
           "colorbar": {
            "outlinewidth": 0,
            "ticks": ""
           }
          },
          "colorscale": {
           "diverging": [
            [
             0,
             "#8e0152"
            ],
            [
             0.1,
             "#c51b7d"
            ],
            [
             0.2,
             "#de77ae"
            ],
            [
             0.3,
             "#f1b6da"
            ],
            [
             0.4,
             "#fde0ef"
            ],
            [
             0.5,
             "#f7f7f7"
            ],
            [
             0.6,
             "#e6f5d0"
            ],
            [
             0.7,
             "#b8e186"
            ],
            [
             0.8,
             "#7fbc41"
            ],
            [
             0.9,
             "#4d9221"
            ],
            [
             1,
             "#276419"
            ]
           ],
           "sequential": [
            [
             0,
             "#0d0887"
            ],
            [
             0.1111111111111111,
             "#46039f"
            ],
            [
             0.2222222222222222,
             "#7201a8"
            ],
            [
             0.3333333333333333,
             "#9c179e"
            ],
            [
             0.4444444444444444,
             "#bd3786"
            ],
            [
             0.5555555555555556,
             "#d8576b"
            ],
            [
             0.6666666666666666,
             "#ed7953"
            ],
            [
             0.7777777777777778,
             "#fb9f3a"
            ],
            [
             0.8888888888888888,
             "#fdca26"
            ],
            [
             1,
             "#f0f921"
            ]
           ],
           "sequentialminus": [
            [
             0,
             "#0d0887"
            ],
            [
             0.1111111111111111,
             "#46039f"
            ],
            [
             0.2222222222222222,
             "#7201a8"
            ],
            [
             0.3333333333333333,
             "#9c179e"
            ],
            [
             0.4444444444444444,
             "#bd3786"
            ],
            [
             0.5555555555555556,
             "#d8576b"
            ],
            [
             0.6666666666666666,
             "#ed7953"
            ],
            [
             0.7777777777777778,
             "#fb9f3a"
            ],
            [
             0.8888888888888888,
             "#fdca26"
            ],
            [
             1,
             "#f0f921"
            ]
           ]
          },
          "colorway": [
           "#636efa",
           "#EF553B",
           "#00cc96",
           "#ab63fa",
           "#FFA15A",
           "#19d3f3",
           "#FF6692",
           "#B6E880",
           "#FF97FF",
           "#FECB52"
          ],
          "font": {
           "color": "#2a3f5f"
          },
          "geo": {
           "bgcolor": "white",
           "lakecolor": "white",
           "landcolor": "#E5ECF6",
           "showlakes": true,
           "showland": true,
           "subunitcolor": "white"
          },
          "hoverlabel": {
           "align": "left"
          },
          "hovermode": "closest",
          "mapbox": {
           "style": "light"
          },
          "paper_bgcolor": "white",
          "plot_bgcolor": "#E5ECF6",
          "polar": {
           "angularaxis": {
            "gridcolor": "white",
            "linecolor": "white",
            "ticks": ""
           },
           "bgcolor": "#E5ECF6",
           "radialaxis": {
            "gridcolor": "white",
            "linecolor": "white",
            "ticks": ""
           }
          },
          "scene": {
           "xaxis": {
            "backgroundcolor": "#E5ECF6",
            "gridcolor": "white",
            "gridwidth": 2,
            "linecolor": "white",
            "showbackground": true,
            "ticks": "",
            "zerolinecolor": "white"
           },
           "yaxis": {
            "backgroundcolor": "#E5ECF6",
            "gridcolor": "white",
            "gridwidth": 2,
            "linecolor": "white",
            "showbackground": true,
            "ticks": "",
            "zerolinecolor": "white"
           },
           "zaxis": {
            "backgroundcolor": "#E5ECF6",
            "gridcolor": "white",
            "gridwidth": 2,
            "linecolor": "white",
            "showbackground": true,
            "ticks": "",
            "zerolinecolor": "white"
           }
          },
          "shapedefaults": {
           "line": {
            "color": "#2a3f5f"
           }
          },
          "ternary": {
           "aaxis": {
            "gridcolor": "white",
            "linecolor": "white",
            "ticks": ""
           },
           "baxis": {
            "gridcolor": "white",
            "linecolor": "white",
            "ticks": ""
           },
           "bgcolor": "#E5ECF6",
           "caxis": {
            "gridcolor": "white",
            "linecolor": "white",
            "ticks": ""
           }
          },
          "title": {
           "x": 0.05
          },
          "xaxis": {
           "automargin": true,
           "gridcolor": "white",
           "linecolor": "white",
           "ticks": "",
           "title": {
            "standoff": 15
           },
           "zerolinecolor": "white",
           "zerolinewidth": 2
          },
          "yaxis": {
           "automargin": true,
           "gridcolor": "white",
           "linecolor": "white",
           "ticks": "",
           "title": {
            "standoff": 15
           },
           "zerolinecolor": "white",
           "zerolinewidth": 2
          }
         }
        },
        "xaxis": {
         "anchor": "y",
         "domain": [
          0,
          1
         ],
         "title": {
          "text": "Ano"
         }
        },
        "yaxis": {
         "anchor": "x",
         "domain": [
          0,
          1
         ],
         "title": {
          "text": "Nota Competência"
         }
        }
       }
      }
     },
     "metadata": {},
     "output_type": "display_data"
    }
   ],
   "source": [
    "fig = go.Figure()\n",
    "fig = (px.scatter(x=df_competencias['arquivo'],y=df_competencias['medprof'],\n",
    "color=df_competencias['ds_comp'],labels={\n",
    "    'x' : 'Ano',\n",
    "    'y':'Nota Competência'\n",
    "}).update_traces(mode='lines+markers'))\n",
    "fig.show()\n"
   ]
  },
  {
   "cell_type": "code",
   "execution_count": 16,
   "metadata": {},
   "outputs": [
    {
     "data": {
      "text/html": "<div>\n<style scoped>\n    .dataframe tbody tr th:only-of-type {\n        vertical-align: middle;\n    }\n\n    .dataframe tbody tr th {\n        vertical-align: top;\n    }\n\n    .dataframe thead th {\n        text-align: right;\n    }\n</style>\n<table border=\"1\" class=\"dataframe\">\n  <thead>\n    <tr style=\"text-align: right;\">\n      <th></th>\n      <th>SERIE_ANO</th>\n      <th>arquivo</th>\n      <th>medprof</th>\n    </tr>\n  </thead>\n  <tbody>\n    <tr>\n      <th>0</th>\n      <td>3º Ano EF</td>\n      <td>2014-01-01</td>\n      <td>203.555849</td>\n    </tr>\n    <tr>\n      <th>1</th>\n      <td>3º Ano EF</td>\n      <td>2015-01-01</td>\n      <td>201.020859</td>\n    </tr>\n    <tr>\n      <th>2</th>\n      <td>3º Ano EF</td>\n      <td>2016-01-01</td>\n      <td>187.693849</td>\n    </tr>\n    <tr>\n      <th>3</th>\n      <td>3º Ano EF</td>\n      <td>2017-01-01</td>\n      <td>191.899602</td>\n    </tr>\n    <tr>\n      <th>4</th>\n      <td>3º Ano EF</td>\n      <td>2018-01-01</td>\n      <td>203.886709</td>\n    </tr>\n    <tr>\n      <th>5</th>\n      <td>5º Ano EF</td>\n      <td>2011-01-01</td>\n      <td>204.438089</td>\n    </tr>\n    <tr>\n      <th>6</th>\n      <td>5º Ano EF</td>\n      <td>2012-01-01</td>\n      <td>204.483372</td>\n    </tr>\n    <tr>\n      <th>7</th>\n      <td>5º Ano EF</td>\n      <td>2013-01-01</td>\n      <td>205.371248</td>\n    </tr>\n    <tr>\n      <th>8</th>\n      <td>5º Ano EF</td>\n      <td>2014-01-01</td>\n      <td>211.546738</td>\n    </tr>\n    <tr>\n      <th>9</th>\n      <td>5º Ano EF</td>\n      <td>2015-01-01</td>\n      <td>220.077755</td>\n    </tr>\n    <tr>\n      <th>10</th>\n      <td>5º Ano EF</td>\n      <td>2016-01-01</td>\n      <td>221.865833</td>\n    </tr>\n    <tr>\n      <th>11</th>\n      <td>5º Ano EF</td>\n      <td>2017-01-01</td>\n      <td>220.236744</td>\n    </tr>\n    <tr>\n      <th>12</th>\n      <td>5º Ano EF</td>\n      <td>2018-01-01</td>\n      <td>222.891747</td>\n    </tr>\n    <tr>\n      <th>13</th>\n      <td>7º Ano EF</td>\n      <td>2011-01-01</td>\n      <td>221.551523</td>\n    </tr>\n    <tr>\n      <th>14</th>\n      <td>7º Ano EF</td>\n      <td>2012-01-01</td>\n      <td>216.461355</td>\n    </tr>\n    <tr>\n      <th>15</th>\n      <td>7º Ano EF</td>\n      <td>2013-01-01</td>\n      <td>223.458817</td>\n    </tr>\n    <tr>\n      <th>16</th>\n      <td>7º Ano EF</td>\n      <td>2014-01-01</td>\n      <td>218.019720</td>\n    </tr>\n    <tr>\n      <th>17</th>\n      <td>7º Ano EF</td>\n      <td>2015-01-01</td>\n      <td>224.098210</td>\n    </tr>\n    <tr>\n      <th>18</th>\n      <td>7º Ano EF</td>\n      <td>2016-01-01</td>\n      <td>224.528766</td>\n    </tr>\n    <tr>\n      <th>19</th>\n      <td>9º Ano EF</td>\n      <td>2011-01-01</td>\n      <td>243.957143</td>\n    </tr>\n    <tr>\n      <th>20</th>\n      <td>9º Ano EF</td>\n      <td>2012-01-01</td>\n      <td>240.652248</td>\n    </tr>\n    <tr>\n      <th>21</th>\n      <td>9º Ano EF</td>\n      <td>2013-01-01</td>\n      <td>242.979966</td>\n    </tr>\n    <tr>\n      <th>22</th>\n      <td>9º Ano EF</td>\n      <td>2014-01-01</td>\n      <td>242.935106</td>\n    </tr>\n    <tr>\n      <th>23</th>\n      <td>9º Ano EF</td>\n      <td>2015-01-01</td>\n      <td>247.796197</td>\n    </tr>\n    <tr>\n      <th>24</th>\n      <td>9º Ano EF</td>\n      <td>2016-01-01</td>\n      <td>244.935001</td>\n    </tr>\n    <tr>\n      <th>25</th>\n      <td>9º Ano EF</td>\n      <td>2017-01-01</td>\n      <td>249.400755</td>\n    </tr>\n    <tr>\n      <th>26</th>\n      <td>9º Ano EF</td>\n      <td>2018-01-01</td>\n      <td>252.334688</td>\n    </tr>\n    <tr>\n      <th>27</th>\n      <td>EM-3ª série</td>\n      <td>2011-01-01</td>\n      <td>271.791407</td>\n    </tr>\n    <tr>\n      <th>28</th>\n      <td>EM-3ª série</td>\n      <td>2012-01-01</td>\n      <td>271.173643</td>\n    </tr>\n    <tr>\n      <th>29</th>\n      <td>EM-3ª série</td>\n      <td>2013-01-01</td>\n      <td>268.652169</td>\n    </tr>\n    <tr>\n      <th>30</th>\n      <td>EM-3ª série</td>\n      <td>2014-01-01</td>\n      <td>271.528851</td>\n    </tr>\n    <tr>\n      <th>31</th>\n      <td>EM-3ª série</td>\n      <td>2015-01-01</td>\n      <td>275.548850</td>\n    </tr>\n    <tr>\n      <th>32</th>\n      <td>EM-3ª série</td>\n      <td>2016-01-01</td>\n      <td>276.172447</td>\n    </tr>\n    <tr>\n      <th>33</th>\n      <td>EM-3ª série</td>\n      <td>2017-01-01</td>\n      <td>276.570124</td>\n    </tr>\n    <tr>\n      <th>34</th>\n      <td>EM-3ª série</td>\n      <td>2018-01-01</td>\n      <td>279.394166</td>\n    </tr>\n  </tbody>\n</table>\n</div>",
      "text/plain": "      SERIE_ANO    arquivo     medprof\n0     3º Ano EF 2014-01-01  203.555849\n1     3º Ano EF 2015-01-01  201.020859\n2     3º Ano EF 2016-01-01  187.693849\n3     3º Ano EF 2017-01-01  191.899602\n4     3º Ano EF 2018-01-01  203.886709\n5     5º Ano EF 2011-01-01  204.438089\n6     5º Ano EF 2012-01-01  204.483372\n7     5º Ano EF 2013-01-01  205.371248\n8     5º Ano EF 2014-01-01  211.546738\n9     5º Ano EF 2015-01-01  220.077755\n10    5º Ano EF 2016-01-01  221.865833\n11    5º Ano EF 2017-01-01  220.236744\n12    5º Ano EF 2018-01-01  222.891747\n13    7º Ano EF 2011-01-01  221.551523\n14    7º Ano EF 2012-01-01  216.461355\n15    7º Ano EF 2013-01-01  223.458817\n16    7º Ano EF 2014-01-01  218.019720\n17    7º Ano EF 2015-01-01  224.098210\n18    7º Ano EF 2016-01-01  224.528766\n19    9º Ano EF 2011-01-01  243.957143\n20    9º Ano EF 2012-01-01  240.652248\n21    9º Ano EF 2013-01-01  242.979966\n22    9º Ano EF 2014-01-01  242.935106\n23    9º Ano EF 2015-01-01  247.796197\n24    9º Ano EF 2016-01-01  244.935001\n25    9º Ano EF 2017-01-01  249.400755\n26    9º Ano EF 2018-01-01  252.334688\n27  EM-3ª série 2011-01-01  271.791407\n28  EM-3ª série 2012-01-01  271.173643\n29  EM-3ª série 2013-01-01  268.652169\n30  EM-3ª série 2014-01-01  271.528851\n31  EM-3ª série 2015-01-01  275.548850\n32  EM-3ª série 2016-01-01  276.172447\n33  EM-3ª série 2017-01-01  276.570124\n34  EM-3ª série 2018-01-01  279.394166"
     },
     "execution_count": 16,
     "metadata": {},
     "output_type": "execute_result"
    }
   ],
   "source": [
    "df_serieano = df_completo.groupby(['SERIE_ANO','arquivo'])['medprof'].mean().reset_index()\n",
    "df_serieano"
   ]
  },
  {
   "cell_type": "code",
   "execution_count": 17,
   "metadata": {},
   "outputs": [
    {
     "data": {
      "application/vnd.plotly.v1+json": {
       "config": {
        "plotlyServerURL": "https://plot.ly"
       },
       "data": [
        {
         "hovertemplate": "color=3º Ano EF<br>Ano=%{x}<br>Nota Competência=%{y}<extra></extra>",
         "legendgroup": "3º Ano EF",
         "marker": {
          "color": "#636efa",
          "symbol": "circle"
         },
         "mode": "lines+markers",
         "name": "3º Ano EF",
         "showlegend": true,
         "type": "scatter",
         "x": [
          "2014-01-01T00:00:00",
          "2015-01-01T00:00:00",
          "2016-01-01T00:00:00",
          "2017-01-01T00:00:00",
          "2018-01-01T00:00:00"
         ],
         "xaxis": "x",
         "y": [
          203.5558488388861,
          201.02085889570515,
          187.69384898190046,
          191.8996018202504,
          203.88670931058985
         ],
         "yaxis": "y"
        },
        {
         "hovertemplate": "color=5º Ano EF<br>Ano=%{x}<br>Nota Competência=%{y}<extra></extra>",
         "legendgroup": "5º Ano EF",
         "marker": {
          "color": "#EF553B",
          "symbol": "circle"
         },
         "mode": "lines+markers",
         "name": "5º Ano EF",
         "showlegend": true,
         "type": "scatter",
         "x": [
          "2011-01-01T00:00:00",
          "2012-01-01T00:00:00",
          "2013-01-01T00:00:00",
          "2014-01-01T00:00:00",
          "2015-01-01T00:00:00",
          "2016-01-01T00:00:00",
          "2017-01-01T00:00:00",
          "2018-01-01T00:00:00"
         ],
         "xaxis": "x",
         "y": [
          204.43808894230673,
          204.48337209302323,
          205.37124784358835,
          211.5467375886529,
          220.0777551020411,
          221.86583261432273,
          220.23674364220872,
          222.89174657534244
         ],
         "yaxis": "y"
        },
        {
         "hovertemplate": "color=7º Ano EF<br>Ano=%{x}<br>Nota Competência=%{y}<extra></extra>",
         "legendgroup": "7º Ano EF",
         "marker": {
          "color": "#00cc96",
          "symbol": "circle"
         },
         "mode": "lines+markers",
         "name": "7º Ano EF",
         "showlegend": true,
         "type": "scatter",
         "x": [
          "2011-01-01T00:00:00",
          "2012-01-01T00:00:00",
          "2013-01-01T00:00:00",
          "2014-01-01T00:00:00",
          "2015-01-01T00:00:00",
          "2016-01-01T00:00:00"
         ],
         "xaxis": "x",
         "y": [
          221.55152281134482,
          216.46135535684755,
          223.4588167126002,
          218.01972046716588,
          224.09821045096706,
          224.52876618950236
         ],
         "yaxis": "y"
        },
        {
         "hovertemplate": "color=9º Ano EF<br>Ano=%{x}<br>Nota Competência=%{y}<extra></extra>",
         "legendgroup": "9º Ano EF",
         "marker": {
          "color": "#ab63fa",
          "symbol": "circle"
         },
         "mode": "lines+markers",
         "name": "9º Ano EF",
         "showlegend": true,
         "type": "scatter",
         "x": [
          "2011-01-01T00:00:00",
          "2012-01-01T00:00:00",
          "2013-01-01T00:00:00",
          "2014-01-01T00:00:00",
          "2015-01-01T00:00:00",
          "2016-01-01T00:00:00",
          "2017-01-01T00:00:00",
          "2018-01-01T00:00:00"
         ],
         "xaxis": "x",
         "y": [
          243.95714285714172,
          240.65224821233454,
          242.9799655255831,
          242.93510621112912,
          247.79619740588464,
          244.93500091402043,
          249.4007547169806,
          252.33468801313586
         ],
         "yaxis": "y"
        },
        {
         "hovertemplate": "color=EM-3ª série<br>Ano=%{x}<br>Nota Competência=%{y}<extra></extra>",
         "legendgroup": "EM-3ª série",
         "marker": {
          "color": "#FFA15A",
          "symbol": "circle"
         },
         "mode": "lines+markers",
         "name": "EM-3ª série",
         "showlegend": true,
         "type": "scatter",
         "x": [
          "2011-01-01T00:00:00",
          "2012-01-01T00:00:00",
          "2013-01-01T00:00:00",
          "2014-01-01T00:00:00",
          "2015-01-01T00:00:00",
          "2016-01-01T00:00:00",
          "2017-01-01T00:00:00",
          "2018-01-01T00:00:00"
         ],
         "xaxis": "x",
         "y": [
          271.79140711287465,
          271.17364307107806,
          268.6521691378352,
          271.5288506588577,
          275.54884992029076,
          276.1724469820546,
          276.5701235777684,
          279.3941657579072
         ],
         "yaxis": "y"
        }
       ],
       "layout": {
        "legend": {
         "title": {
          "text": "color"
         },
         "tracegroupgap": 0
        },
        "margin": {
         "t": 60
        },
        "template": {
         "data": {
          "bar": [
           {
            "error_x": {
             "color": "#2a3f5f"
            },
            "error_y": {
             "color": "#2a3f5f"
            },
            "marker": {
             "line": {
              "color": "#E5ECF6",
              "width": 0.5
             }
            },
            "type": "bar"
           }
          ],
          "barpolar": [
           {
            "marker": {
             "line": {
              "color": "#E5ECF6",
              "width": 0.5
             }
            },
            "type": "barpolar"
           }
          ],
          "carpet": [
           {
            "aaxis": {
             "endlinecolor": "#2a3f5f",
             "gridcolor": "white",
             "linecolor": "white",
             "minorgridcolor": "white",
             "startlinecolor": "#2a3f5f"
            },
            "baxis": {
             "endlinecolor": "#2a3f5f",
             "gridcolor": "white",
             "linecolor": "white",
             "minorgridcolor": "white",
             "startlinecolor": "#2a3f5f"
            },
            "type": "carpet"
           }
          ],
          "choropleth": [
           {
            "colorbar": {
             "outlinewidth": 0,
             "ticks": ""
            },
            "type": "choropleth"
           }
          ],
          "contour": [
           {
            "colorbar": {
             "outlinewidth": 0,
             "ticks": ""
            },
            "colorscale": [
             [
              0,
              "#0d0887"
             ],
             [
              0.1111111111111111,
              "#46039f"
             ],
             [
              0.2222222222222222,
              "#7201a8"
             ],
             [
              0.3333333333333333,
              "#9c179e"
             ],
             [
              0.4444444444444444,
              "#bd3786"
             ],
             [
              0.5555555555555556,
              "#d8576b"
             ],
             [
              0.6666666666666666,
              "#ed7953"
             ],
             [
              0.7777777777777778,
              "#fb9f3a"
             ],
             [
              0.8888888888888888,
              "#fdca26"
             ],
             [
              1,
              "#f0f921"
             ]
            ],
            "type": "contour"
           }
          ],
          "contourcarpet": [
           {
            "colorbar": {
             "outlinewidth": 0,
             "ticks": ""
            },
            "type": "contourcarpet"
           }
          ],
          "heatmap": [
           {
            "colorbar": {
             "outlinewidth": 0,
             "ticks": ""
            },
            "colorscale": [
             [
              0,
              "#0d0887"
             ],
             [
              0.1111111111111111,
              "#46039f"
             ],
             [
              0.2222222222222222,
              "#7201a8"
             ],
             [
              0.3333333333333333,
              "#9c179e"
             ],
             [
              0.4444444444444444,
              "#bd3786"
             ],
             [
              0.5555555555555556,
              "#d8576b"
             ],
             [
              0.6666666666666666,
              "#ed7953"
             ],
             [
              0.7777777777777778,
              "#fb9f3a"
             ],
             [
              0.8888888888888888,
              "#fdca26"
             ],
             [
              1,
              "#f0f921"
             ]
            ],
            "type": "heatmap"
           }
          ],
          "heatmapgl": [
           {
            "colorbar": {
             "outlinewidth": 0,
             "ticks": ""
            },
            "colorscale": [
             [
              0,
              "#0d0887"
             ],
             [
              0.1111111111111111,
              "#46039f"
             ],
             [
              0.2222222222222222,
              "#7201a8"
             ],
             [
              0.3333333333333333,
              "#9c179e"
             ],
             [
              0.4444444444444444,
              "#bd3786"
             ],
             [
              0.5555555555555556,
              "#d8576b"
             ],
             [
              0.6666666666666666,
              "#ed7953"
             ],
             [
              0.7777777777777778,
              "#fb9f3a"
             ],
             [
              0.8888888888888888,
              "#fdca26"
             ],
             [
              1,
              "#f0f921"
             ]
            ],
            "type": "heatmapgl"
           }
          ],
          "histogram": [
           {
            "marker": {
             "colorbar": {
              "outlinewidth": 0,
              "ticks": ""
             }
            },
            "type": "histogram"
           }
          ],
          "histogram2d": [
           {
            "colorbar": {
             "outlinewidth": 0,
             "ticks": ""
            },
            "colorscale": [
             [
              0,
              "#0d0887"
             ],
             [
              0.1111111111111111,
              "#46039f"
             ],
             [
              0.2222222222222222,
              "#7201a8"
             ],
             [
              0.3333333333333333,
              "#9c179e"
             ],
             [
              0.4444444444444444,
              "#bd3786"
             ],
             [
              0.5555555555555556,
              "#d8576b"
             ],
             [
              0.6666666666666666,
              "#ed7953"
             ],
             [
              0.7777777777777778,
              "#fb9f3a"
             ],
             [
              0.8888888888888888,
              "#fdca26"
             ],
             [
              1,
              "#f0f921"
             ]
            ],
            "type": "histogram2d"
           }
          ],
          "histogram2dcontour": [
           {
            "colorbar": {
             "outlinewidth": 0,
             "ticks": ""
            },
            "colorscale": [
             [
              0,
              "#0d0887"
             ],
             [
              0.1111111111111111,
              "#46039f"
             ],
             [
              0.2222222222222222,
              "#7201a8"
             ],
             [
              0.3333333333333333,
              "#9c179e"
             ],
             [
              0.4444444444444444,
              "#bd3786"
             ],
             [
              0.5555555555555556,
              "#d8576b"
             ],
             [
              0.6666666666666666,
              "#ed7953"
             ],
             [
              0.7777777777777778,
              "#fb9f3a"
             ],
             [
              0.8888888888888888,
              "#fdca26"
             ],
             [
              1,
              "#f0f921"
             ]
            ],
            "type": "histogram2dcontour"
           }
          ],
          "mesh3d": [
           {
            "colorbar": {
             "outlinewidth": 0,
             "ticks": ""
            },
            "type": "mesh3d"
           }
          ],
          "parcoords": [
           {
            "line": {
             "colorbar": {
              "outlinewidth": 0,
              "ticks": ""
             }
            },
            "type": "parcoords"
           }
          ],
          "pie": [
           {
            "automargin": true,
            "type": "pie"
           }
          ],
          "scatter": [
           {
            "marker": {
             "colorbar": {
              "outlinewidth": 0,
              "ticks": ""
             }
            },
            "type": "scatter"
           }
          ],
          "scatter3d": [
           {
            "line": {
             "colorbar": {
              "outlinewidth": 0,
              "ticks": ""
             }
            },
            "marker": {
             "colorbar": {
              "outlinewidth": 0,
              "ticks": ""
             }
            },
            "type": "scatter3d"
           }
          ],
          "scattercarpet": [
           {
            "marker": {
             "colorbar": {
              "outlinewidth": 0,
              "ticks": ""
             }
            },
            "type": "scattercarpet"
           }
          ],
          "scattergeo": [
           {
            "marker": {
             "colorbar": {
              "outlinewidth": 0,
              "ticks": ""
             }
            },
            "type": "scattergeo"
           }
          ],
          "scattergl": [
           {
            "marker": {
             "colorbar": {
              "outlinewidth": 0,
              "ticks": ""
             }
            },
            "type": "scattergl"
           }
          ],
          "scattermapbox": [
           {
            "marker": {
             "colorbar": {
              "outlinewidth": 0,
              "ticks": ""
             }
            },
            "type": "scattermapbox"
           }
          ],
          "scatterpolar": [
           {
            "marker": {
             "colorbar": {
              "outlinewidth": 0,
              "ticks": ""
             }
            },
            "type": "scatterpolar"
           }
          ],
          "scatterpolargl": [
           {
            "marker": {
             "colorbar": {
              "outlinewidth": 0,
              "ticks": ""
             }
            },
            "type": "scatterpolargl"
           }
          ],
          "scatterternary": [
           {
            "marker": {
             "colorbar": {
              "outlinewidth": 0,
              "ticks": ""
             }
            },
            "type": "scatterternary"
           }
          ],
          "surface": [
           {
            "colorbar": {
             "outlinewidth": 0,
             "ticks": ""
            },
            "colorscale": [
             [
              0,
              "#0d0887"
             ],
             [
              0.1111111111111111,
              "#46039f"
             ],
             [
              0.2222222222222222,
              "#7201a8"
             ],
             [
              0.3333333333333333,
              "#9c179e"
             ],
             [
              0.4444444444444444,
              "#bd3786"
             ],
             [
              0.5555555555555556,
              "#d8576b"
             ],
             [
              0.6666666666666666,
              "#ed7953"
             ],
             [
              0.7777777777777778,
              "#fb9f3a"
             ],
             [
              0.8888888888888888,
              "#fdca26"
             ],
             [
              1,
              "#f0f921"
             ]
            ],
            "type": "surface"
           }
          ],
          "table": [
           {
            "cells": {
             "fill": {
              "color": "#EBF0F8"
             },
             "line": {
              "color": "white"
             }
            },
            "header": {
             "fill": {
              "color": "#C8D4E3"
             },
             "line": {
              "color": "white"
             }
            },
            "type": "table"
           }
          ]
         },
         "layout": {
          "annotationdefaults": {
           "arrowcolor": "#2a3f5f",
           "arrowhead": 0,
           "arrowwidth": 1
          },
          "coloraxis": {
           "colorbar": {
            "outlinewidth": 0,
            "ticks": ""
           }
          },
          "colorscale": {
           "diverging": [
            [
             0,
             "#8e0152"
            ],
            [
             0.1,
             "#c51b7d"
            ],
            [
             0.2,
             "#de77ae"
            ],
            [
             0.3,
             "#f1b6da"
            ],
            [
             0.4,
             "#fde0ef"
            ],
            [
             0.5,
             "#f7f7f7"
            ],
            [
             0.6,
             "#e6f5d0"
            ],
            [
             0.7,
             "#b8e186"
            ],
            [
             0.8,
             "#7fbc41"
            ],
            [
             0.9,
             "#4d9221"
            ],
            [
             1,
             "#276419"
            ]
           ],
           "sequential": [
            [
             0,
             "#0d0887"
            ],
            [
             0.1111111111111111,
             "#46039f"
            ],
            [
             0.2222222222222222,
             "#7201a8"
            ],
            [
             0.3333333333333333,
             "#9c179e"
            ],
            [
             0.4444444444444444,
             "#bd3786"
            ],
            [
             0.5555555555555556,
             "#d8576b"
            ],
            [
             0.6666666666666666,
             "#ed7953"
            ],
            [
             0.7777777777777778,
             "#fb9f3a"
            ],
            [
             0.8888888888888888,
             "#fdca26"
            ],
            [
             1,
             "#f0f921"
            ]
           ],
           "sequentialminus": [
            [
             0,
             "#0d0887"
            ],
            [
             0.1111111111111111,
             "#46039f"
            ],
            [
             0.2222222222222222,
             "#7201a8"
            ],
            [
             0.3333333333333333,
             "#9c179e"
            ],
            [
             0.4444444444444444,
             "#bd3786"
            ],
            [
             0.5555555555555556,
             "#d8576b"
            ],
            [
             0.6666666666666666,
             "#ed7953"
            ],
            [
             0.7777777777777778,
             "#fb9f3a"
            ],
            [
             0.8888888888888888,
             "#fdca26"
            ],
            [
             1,
             "#f0f921"
            ]
           ]
          },
          "colorway": [
           "#636efa",
           "#EF553B",
           "#00cc96",
           "#ab63fa",
           "#FFA15A",
           "#19d3f3",
           "#FF6692",
           "#B6E880",
           "#FF97FF",
           "#FECB52"
          ],
          "font": {
           "color": "#2a3f5f"
          },
          "geo": {
           "bgcolor": "white",
           "lakecolor": "white",
           "landcolor": "#E5ECF6",
           "showlakes": true,
           "showland": true,
           "subunitcolor": "white"
          },
          "hoverlabel": {
           "align": "left"
          },
          "hovermode": "closest",
          "mapbox": {
           "style": "light"
          },
          "paper_bgcolor": "white",
          "plot_bgcolor": "#E5ECF6",
          "polar": {
           "angularaxis": {
            "gridcolor": "white",
            "linecolor": "white",
            "ticks": ""
           },
           "bgcolor": "#E5ECF6",
           "radialaxis": {
            "gridcolor": "white",
            "linecolor": "white",
            "ticks": ""
           }
          },
          "scene": {
           "xaxis": {
            "backgroundcolor": "#E5ECF6",
            "gridcolor": "white",
            "gridwidth": 2,
            "linecolor": "white",
            "showbackground": true,
            "ticks": "",
            "zerolinecolor": "white"
           },
           "yaxis": {
            "backgroundcolor": "#E5ECF6",
            "gridcolor": "white",
            "gridwidth": 2,
            "linecolor": "white",
            "showbackground": true,
            "ticks": "",
            "zerolinecolor": "white"
           },
           "zaxis": {
            "backgroundcolor": "#E5ECF6",
            "gridcolor": "white",
            "gridwidth": 2,
            "linecolor": "white",
            "showbackground": true,
            "ticks": "",
            "zerolinecolor": "white"
           }
          },
          "shapedefaults": {
           "line": {
            "color": "#2a3f5f"
           }
          },
          "ternary": {
           "aaxis": {
            "gridcolor": "white",
            "linecolor": "white",
            "ticks": ""
           },
           "baxis": {
            "gridcolor": "white",
            "linecolor": "white",
            "ticks": ""
           },
           "bgcolor": "#E5ECF6",
           "caxis": {
            "gridcolor": "white",
            "linecolor": "white",
            "ticks": ""
           }
          },
          "title": {
           "x": 0.05
          },
          "xaxis": {
           "automargin": true,
           "gridcolor": "white",
           "linecolor": "white",
           "ticks": "",
           "title": {
            "standoff": 15
           },
           "zerolinecolor": "white",
           "zerolinewidth": 2
          },
          "yaxis": {
           "automargin": true,
           "gridcolor": "white",
           "linecolor": "white",
           "ticks": "",
           "title": {
            "standoff": 15
           },
           "zerolinecolor": "white",
           "zerolinewidth": 2
          }
         }
        },
        "xaxis": {
         "anchor": "y",
         "domain": [
          0,
          1
         ],
         "title": {
          "text": "Ano"
         }
        },
        "yaxis": {
         "anchor": "x",
         "domain": [
          0,
          1
         ],
         "title": {
          "text": "Nota Competência"
         }
        }
       }
      }
     },
     "metadata": {},
     "output_type": "display_data"
    }
   ],
   "source": [
    "fig = (px.scatter(x=df_serieano['arquivo'],y=df_serieano['medprof'],\n",
    "color=df_serieano['SERIE_ANO'],labels={\n",
    "    'x' : 'Ano',\n",
    "    'y':'Nota Competência'\n",
    "}).update_traces(mode='lines+markers'))\n",
    "fig.show()"
   ]
  },
  {
   "cell_type": "code",
   "execution_count": 18,
   "metadata": {},
   "outputs": [],
   "source": [
    "df_nota_serie = df_completo.groupby(['SERIE_ANO','ds_comp'])['medprof'].mean().reset_index()\n",
    "df_nota = df_nota_serie.query('ds_comp != \"HISTÓRIA\" & ds_comp != \"CIÊNCIAS\" & ds_comp != \"GEOGRAFIA\"')"
   ]
  },
  {
   "cell_type": "code",
   "execution_count": 19,
   "metadata": {},
   "outputs": [
    {
     "data": {
      "application/vnd.plotly.v1+json": {
       "config": {
        "plotlyServerURL": "https://plot.ly"
       },
       "data": [
        {
         "alignmentgroup": "True",
         "hovertemplate": "ds_comp=LÍNGUA PORTUGUESA<br>SERIE_ANO=%{x}<br>medprof=%{y}<extra></extra>",
         "legendgroup": "LÍNGUA PORTUGUESA",
         "marker": {
          "color": "#636efa"
         },
         "name": "LÍNGUA PORTUGUESA",
         "offsetgroup": "LÍNGUA PORTUGUESA",
         "orientation": "v",
         "showlegend": true,
         "textposition": "auto",
         "type": "bar",
         "x": [
          "3º Ano EF",
          "5º Ano EF",
          "7º Ano EF",
          "9º Ano EF",
          "EM-3ª série"
         ],
         "xaxis": "x",
         "y": [
          183.2171537813494,
          207.24138432293543,
          211.8820858822078,
          234.55534214081237,
          269.1274575161456
         ],
         "yaxis": "y"
        },
        {
         "alignmentgroup": "True",
         "hovertemplate": "ds_comp=MATEMÁTICA<br>SERIE_ANO=%{x}<br>medprof=%{y}<extra></extra>",
         "legendgroup": "MATEMÁTICA",
         "marker": {
          "color": "#EF553B"
         },
         "name": "MATEMÁTICA",
         "offsetgroup": "MATEMÁTICA",
         "orientation": "v",
         "showlegend": true,
         "textposition": "auto",
         "type": "bar",
         "x": [
          "3º Ano EF",
          "5º Ano EF",
          "7º Ano EF",
          "9º Ano EF",
          "EM-3ª série"
         ],
         "xaxis": "x",
         "y": [
          210.22296325102008,
          218.3196993995453,
          218.44383393285432,
          249.69480408297753,
          275.0834594964402
         ],
         "yaxis": "y"
        }
       ],
       "layout": {
        "barmode": "group",
        "legend": {
         "title": {
          "text": "ds_comp"
         },
         "tracegroupgap": 0
        },
        "margin": {
         "t": 60
        },
        "template": {
         "data": {
          "bar": [
           {
            "error_x": {
             "color": "#2a3f5f"
            },
            "error_y": {
             "color": "#2a3f5f"
            },
            "marker": {
             "line": {
              "color": "#E5ECF6",
              "width": 0.5
             }
            },
            "type": "bar"
           }
          ],
          "barpolar": [
           {
            "marker": {
             "line": {
              "color": "#E5ECF6",
              "width": 0.5
             }
            },
            "type": "barpolar"
           }
          ],
          "carpet": [
           {
            "aaxis": {
             "endlinecolor": "#2a3f5f",
             "gridcolor": "white",
             "linecolor": "white",
             "minorgridcolor": "white",
             "startlinecolor": "#2a3f5f"
            },
            "baxis": {
             "endlinecolor": "#2a3f5f",
             "gridcolor": "white",
             "linecolor": "white",
             "minorgridcolor": "white",
             "startlinecolor": "#2a3f5f"
            },
            "type": "carpet"
           }
          ],
          "choropleth": [
           {
            "colorbar": {
             "outlinewidth": 0,
             "ticks": ""
            },
            "type": "choropleth"
           }
          ],
          "contour": [
           {
            "colorbar": {
             "outlinewidth": 0,
             "ticks": ""
            },
            "colorscale": [
             [
              0,
              "#0d0887"
             ],
             [
              0.1111111111111111,
              "#46039f"
             ],
             [
              0.2222222222222222,
              "#7201a8"
             ],
             [
              0.3333333333333333,
              "#9c179e"
             ],
             [
              0.4444444444444444,
              "#bd3786"
             ],
             [
              0.5555555555555556,
              "#d8576b"
             ],
             [
              0.6666666666666666,
              "#ed7953"
             ],
             [
              0.7777777777777778,
              "#fb9f3a"
             ],
             [
              0.8888888888888888,
              "#fdca26"
             ],
             [
              1,
              "#f0f921"
             ]
            ],
            "type": "contour"
           }
          ],
          "contourcarpet": [
           {
            "colorbar": {
             "outlinewidth": 0,
             "ticks": ""
            },
            "type": "contourcarpet"
           }
          ],
          "heatmap": [
           {
            "colorbar": {
             "outlinewidth": 0,
             "ticks": ""
            },
            "colorscale": [
             [
              0,
              "#0d0887"
             ],
             [
              0.1111111111111111,
              "#46039f"
             ],
             [
              0.2222222222222222,
              "#7201a8"
             ],
             [
              0.3333333333333333,
              "#9c179e"
             ],
             [
              0.4444444444444444,
              "#bd3786"
             ],
             [
              0.5555555555555556,
              "#d8576b"
             ],
             [
              0.6666666666666666,
              "#ed7953"
             ],
             [
              0.7777777777777778,
              "#fb9f3a"
             ],
             [
              0.8888888888888888,
              "#fdca26"
             ],
             [
              1,
              "#f0f921"
             ]
            ],
            "type": "heatmap"
           }
          ],
          "heatmapgl": [
           {
            "colorbar": {
             "outlinewidth": 0,
             "ticks": ""
            },
            "colorscale": [
             [
              0,
              "#0d0887"
             ],
             [
              0.1111111111111111,
              "#46039f"
             ],
             [
              0.2222222222222222,
              "#7201a8"
             ],
             [
              0.3333333333333333,
              "#9c179e"
             ],
             [
              0.4444444444444444,
              "#bd3786"
             ],
             [
              0.5555555555555556,
              "#d8576b"
             ],
             [
              0.6666666666666666,
              "#ed7953"
             ],
             [
              0.7777777777777778,
              "#fb9f3a"
             ],
             [
              0.8888888888888888,
              "#fdca26"
             ],
             [
              1,
              "#f0f921"
             ]
            ],
            "type": "heatmapgl"
           }
          ],
          "histogram": [
           {
            "marker": {
             "colorbar": {
              "outlinewidth": 0,
              "ticks": ""
             }
            },
            "type": "histogram"
           }
          ],
          "histogram2d": [
           {
            "colorbar": {
             "outlinewidth": 0,
             "ticks": ""
            },
            "colorscale": [
             [
              0,
              "#0d0887"
             ],
             [
              0.1111111111111111,
              "#46039f"
             ],
             [
              0.2222222222222222,
              "#7201a8"
             ],
             [
              0.3333333333333333,
              "#9c179e"
             ],
             [
              0.4444444444444444,
              "#bd3786"
             ],
             [
              0.5555555555555556,
              "#d8576b"
             ],
             [
              0.6666666666666666,
              "#ed7953"
             ],
             [
              0.7777777777777778,
              "#fb9f3a"
             ],
             [
              0.8888888888888888,
              "#fdca26"
             ],
             [
              1,
              "#f0f921"
             ]
            ],
            "type": "histogram2d"
           }
          ],
          "histogram2dcontour": [
           {
            "colorbar": {
             "outlinewidth": 0,
             "ticks": ""
            },
            "colorscale": [
             [
              0,
              "#0d0887"
             ],
             [
              0.1111111111111111,
              "#46039f"
             ],
             [
              0.2222222222222222,
              "#7201a8"
             ],
             [
              0.3333333333333333,
              "#9c179e"
             ],
             [
              0.4444444444444444,
              "#bd3786"
             ],
             [
              0.5555555555555556,
              "#d8576b"
             ],
             [
              0.6666666666666666,
              "#ed7953"
             ],
             [
              0.7777777777777778,
              "#fb9f3a"
             ],
             [
              0.8888888888888888,
              "#fdca26"
             ],
             [
              1,
              "#f0f921"
             ]
            ],
            "type": "histogram2dcontour"
           }
          ],
          "mesh3d": [
           {
            "colorbar": {
             "outlinewidth": 0,
             "ticks": ""
            },
            "type": "mesh3d"
           }
          ],
          "parcoords": [
           {
            "line": {
             "colorbar": {
              "outlinewidth": 0,
              "ticks": ""
             }
            },
            "type": "parcoords"
           }
          ],
          "pie": [
           {
            "automargin": true,
            "type": "pie"
           }
          ],
          "scatter": [
           {
            "marker": {
             "colorbar": {
              "outlinewidth": 0,
              "ticks": ""
             }
            },
            "type": "scatter"
           }
          ],
          "scatter3d": [
           {
            "line": {
             "colorbar": {
              "outlinewidth": 0,
              "ticks": ""
             }
            },
            "marker": {
             "colorbar": {
              "outlinewidth": 0,
              "ticks": ""
             }
            },
            "type": "scatter3d"
           }
          ],
          "scattercarpet": [
           {
            "marker": {
             "colorbar": {
              "outlinewidth": 0,
              "ticks": ""
             }
            },
            "type": "scattercarpet"
           }
          ],
          "scattergeo": [
           {
            "marker": {
             "colorbar": {
              "outlinewidth": 0,
              "ticks": ""
             }
            },
            "type": "scattergeo"
           }
          ],
          "scattergl": [
           {
            "marker": {
             "colorbar": {
              "outlinewidth": 0,
              "ticks": ""
             }
            },
            "type": "scattergl"
           }
          ],
          "scattermapbox": [
           {
            "marker": {
             "colorbar": {
              "outlinewidth": 0,
              "ticks": ""
             }
            },
            "type": "scattermapbox"
           }
          ],
          "scatterpolar": [
           {
            "marker": {
             "colorbar": {
              "outlinewidth": 0,
              "ticks": ""
             }
            },
            "type": "scatterpolar"
           }
          ],
          "scatterpolargl": [
           {
            "marker": {
             "colorbar": {
              "outlinewidth": 0,
              "ticks": ""
             }
            },
            "type": "scatterpolargl"
           }
          ],
          "scatterternary": [
           {
            "marker": {
             "colorbar": {
              "outlinewidth": 0,
              "ticks": ""
             }
            },
            "type": "scatterternary"
           }
          ],
          "surface": [
           {
            "colorbar": {
             "outlinewidth": 0,
             "ticks": ""
            },
            "colorscale": [
             [
              0,
              "#0d0887"
             ],
             [
              0.1111111111111111,
              "#46039f"
             ],
             [
              0.2222222222222222,
              "#7201a8"
             ],
             [
              0.3333333333333333,
              "#9c179e"
             ],
             [
              0.4444444444444444,
              "#bd3786"
             ],
             [
              0.5555555555555556,
              "#d8576b"
             ],
             [
              0.6666666666666666,
              "#ed7953"
             ],
             [
              0.7777777777777778,
              "#fb9f3a"
             ],
             [
              0.8888888888888888,
              "#fdca26"
             ],
             [
              1,
              "#f0f921"
             ]
            ],
            "type": "surface"
           }
          ],
          "table": [
           {
            "cells": {
             "fill": {
              "color": "#EBF0F8"
             },
             "line": {
              "color": "white"
             }
            },
            "header": {
             "fill": {
              "color": "#C8D4E3"
             },
             "line": {
              "color": "white"
             }
            },
            "type": "table"
           }
          ]
         },
         "layout": {
          "annotationdefaults": {
           "arrowcolor": "#2a3f5f",
           "arrowhead": 0,
           "arrowwidth": 1
          },
          "coloraxis": {
           "colorbar": {
            "outlinewidth": 0,
            "ticks": ""
           }
          },
          "colorscale": {
           "diverging": [
            [
             0,
             "#8e0152"
            ],
            [
             0.1,
             "#c51b7d"
            ],
            [
             0.2,
             "#de77ae"
            ],
            [
             0.3,
             "#f1b6da"
            ],
            [
             0.4,
             "#fde0ef"
            ],
            [
             0.5,
             "#f7f7f7"
            ],
            [
             0.6,
             "#e6f5d0"
            ],
            [
             0.7,
             "#b8e186"
            ],
            [
             0.8,
             "#7fbc41"
            ],
            [
             0.9,
             "#4d9221"
            ],
            [
             1,
             "#276419"
            ]
           ],
           "sequential": [
            [
             0,
             "#0d0887"
            ],
            [
             0.1111111111111111,
             "#46039f"
            ],
            [
             0.2222222222222222,
             "#7201a8"
            ],
            [
             0.3333333333333333,
             "#9c179e"
            ],
            [
             0.4444444444444444,
             "#bd3786"
            ],
            [
             0.5555555555555556,
             "#d8576b"
            ],
            [
             0.6666666666666666,
             "#ed7953"
            ],
            [
             0.7777777777777778,
             "#fb9f3a"
            ],
            [
             0.8888888888888888,
             "#fdca26"
            ],
            [
             1,
             "#f0f921"
            ]
           ],
           "sequentialminus": [
            [
             0,
             "#0d0887"
            ],
            [
             0.1111111111111111,
             "#46039f"
            ],
            [
             0.2222222222222222,
             "#7201a8"
            ],
            [
             0.3333333333333333,
             "#9c179e"
            ],
            [
             0.4444444444444444,
             "#bd3786"
            ],
            [
             0.5555555555555556,
             "#d8576b"
            ],
            [
             0.6666666666666666,
             "#ed7953"
            ],
            [
             0.7777777777777778,
             "#fb9f3a"
            ],
            [
             0.8888888888888888,
             "#fdca26"
            ],
            [
             1,
             "#f0f921"
            ]
           ]
          },
          "colorway": [
           "#636efa",
           "#EF553B",
           "#00cc96",
           "#ab63fa",
           "#FFA15A",
           "#19d3f3",
           "#FF6692",
           "#B6E880",
           "#FF97FF",
           "#FECB52"
          ],
          "font": {
           "color": "#2a3f5f"
          },
          "geo": {
           "bgcolor": "white",
           "lakecolor": "white",
           "landcolor": "#E5ECF6",
           "showlakes": true,
           "showland": true,
           "subunitcolor": "white"
          },
          "hoverlabel": {
           "align": "left"
          },
          "hovermode": "closest",
          "mapbox": {
           "style": "light"
          },
          "paper_bgcolor": "white",
          "plot_bgcolor": "#E5ECF6",
          "polar": {
           "angularaxis": {
            "gridcolor": "white",
            "linecolor": "white",
            "ticks": ""
           },
           "bgcolor": "#E5ECF6",
           "radialaxis": {
            "gridcolor": "white",
            "linecolor": "white",
            "ticks": ""
           }
          },
          "scene": {
           "xaxis": {
            "backgroundcolor": "#E5ECF6",
            "gridcolor": "white",
            "gridwidth": 2,
            "linecolor": "white",
            "showbackground": true,
            "ticks": "",
            "zerolinecolor": "white"
           },
           "yaxis": {
            "backgroundcolor": "#E5ECF6",
            "gridcolor": "white",
            "gridwidth": 2,
            "linecolor": "white",
            "showbackground": true,
            "ticks": "",
            "zerolinecolor": "white"
           },
           "zaxis": {
            "backgroundcolor": "#E5ECF6",
            "gridcolor": "white",
            "gridwidth": 2,
            "linecolor": "white",
            "showbackground": true,
            "ticks": "",
            "zerolinecolor": "white"
           }
          },
          "shapedefaults": {
           "line": {
            "color": "#2a3f5f"
           }
          },
          "ternary": {
           "aaxis": {
            "gridcolor": "white",
            "linecolor": "white",
            "ticks": ""
           },
           "baxis": {
            "gridcolor": "white",
            "linecolor": "white",
            "ticks": ""
           },
           "bgcolor": "#E5ECF6",
           "caxis": {
            "gridcolor": "white",
            "linecolor": "white",
            "ticks": ""
           }
          },
          "title": {
           "x": 0.05
          },
          "xaxis": {
           "automargin": true,
           "gridcolor": "white",
           "linecolor": "white",
           "ticks": "",
           "title": {
            "standoff": 15
           },
           "zerolinecolor": "white",
           "zerolinewidth": 2
          },
          "yaxis": {
           "automargin": true,
           "gridcolor": "white",
           "linecolor": "white",
           "ticks": "",
           "title": {
            "standoff": 15
           },
           "zerolinecolor": "white",
           "zerolinewidth": 2
          }
         }
        },
        "xaxis": {
         "anchor": "y",
         "domain": [
          0,
          1
         ],
         "title": {
          "text": "SERIE_ANO"
         }
        },
        "yaxis": {
         "anchor": "x",
         "domain": [
          0,
          1
         ],
         "title": {
          "text": "medprof"
         }
        }
       }
      }
     },
     "metadata": {},
     "output_type": "display_data"
    }
   ],
   "source": [
    "fig = px.bar(df_nota,x='SERIE_ANO',y='medprof',color='ds_comp',barmode='group')\n",
    "fig.show()"
   ]
  },
  {
   "cell_type": "code",
   "execution_count": 20,
   "metadata": {},
   "outputs": [
    {
     "data": {
      "text/plain": "array(['3º Ano EF', '5º Ano EF', '7º Ano EF', '9º Ano EF', 'EM-3ª série'],\n      dtype=object)"
     },
     "execution_count": 20,
     "metadata": {},
     "output_type": "execute_result"
    }
   ],
   "source": [
    "df_mat = df_completo.query('ds_comp ==\"MATEMÁTICA\" ')\n",
    "df_port = df_completo.query('ds_comp == \"LÍNGUA PORTUGUESA\"')\n",
    "series = df_serieano.SERIE_ANO.unique()\n",
    "series"
   ]
  },
  {
   "cell_type": "code",
   "execution_count": 21,
   "metadata": {},
   "outputs": [
    {
     "data": {
      "text/plain": "(('3º Ano EF', [0, 125, 175, 225, 400]),\n ('5º Ano EF', [0, 150, 200, 250, 400]),\n ('7º Ano EF', [0, 175, 225, 275, 400]),\n ('9º Ano EF', [0, 200, 275, 325, 400]),\n ('EM-3ª série', [0, 250, 300, 375, 400]))"
     },
     "execution_count": 21,
     "metadata": {},
     "output_type": "execute_result"
    }
   ],
   "source": [
    "label = ['Abaixo do Básico','Básico','Adequado','Avançado']\n",
    "#bins para português\n",
    "bin_3ef = [0,125,175,225,400]\n",
    "bin_5ef = [0,150,200,250,400]\n",
    "bin_7ef = [0,175,225,275,400]\n",
    "bin_9ef = [0,200,275,325,400]\n",
    "bin_3em = [0,250,300,375,400]\n",
    "bins = [bin_3ef,bin_5ef,bin_7ef,bin_9ef,bin_3em]\n",
    "tp = tuple(zip(series,bins))\n",
    "tp"
   ]
  },
  {
   "cell_type": "code",
   "execution_count": 22,
   "metadata": {},
   "outputs": [],
   "source": [
    "#inserindo classicicação para a média de proficiêcia do português\n",
    "df_temp = pd.DataFrame()\n",
    "for serie,b in tp:\n",
    "    df_cut = df_port[df_port['SERIE_ANO']==serie]\n",
    "    df_cut['classification'] = pd.cut(df_cut['medprof'],bins=b,labels=label)\n",
    "    df_temp = df_temp.append(df_cut)"
   ]
  },
  {
   "cell_type": "code",
   "execution_count": 23,
   "metadata": {},
   "outputs": [],
   "source": [
    "#bins para matemática\n",
    "bin_3ef_m = [0,150,200,250,400]\n",
    "bin_5ef_m = [0,175,225,275,400]\n",
    "bin_7ef_m = [0,200,250,300,400]\n",
    "bin_9ef_m = [0,225,300,350,400]\n",
    "bin_3em_m = [0,275,350,400,500]\n",
    "bins_mat = [bin_3ef_m,bin_5ef_m,bin_7ef_m,bin_9ef_m,bin_3em_m]\n",
    "tp_m = tuple(zip(series,bins))"
   ]
  },
  {
   "cell_type": "code",
   "execution_count": 24,
   "metadata": {},
   "outputs": [],
   "source": [
    "df_temp_m = pd.DataFrame()\n",
    "for serie,b in tp_m:\n",
    "    df_cut_m = df_mat[df_mat['SERIE_ANO']==serie]\n",
    "    df_cut_m['classification'] = pd.cut(df_cut_m['medprof'],bins=b,labels=label)\n",
    "    df_temp_m = df_temp_m.append(df_cut_m)"
   ]
  },
  {
   "cell_type": "code",
   "execution_count": 25,
   "metadata": {},
   "outputs": [
    {
     "data": {
      "text/plain": "Básico              144543\nAdequado             48624\nAvançado              6868\nAbaixo do Básico      3544\nName: classification, dtype: int64"
     },
     "execution_count": 25,
     "metadata": {},
     "output_type": "execute_result"
    }
   ],
   "source": [
    "df_temp_m.classification.value_counts()"
   ]
  },
  {
   "cell_type": "code",
   "execution_count": 26,
   "metadata": {},
   "outputs": [],
   "source": [
    "df_final = df_temp_m.append(df_temp)\n"
   ]
  },
  {
   "cell_type": "code",
   "execution_count": 34,
   "metadata": {},
   "outputs": [],
   "source": [
    "df_final.to_pickle('../dados/sarespv1.pkl')\n",
    "df_final.to_csv('../dados/sarespv1.csv',index=False)"
   ]
  },
  {
   "cell_type": "code",
   "execution_count": 33,
   "metadata": {},
   "outputs": [
    {
     "data": {
      "text/html": "<div>\n<style scoped>\n    .dataframe tbody tr th:only-of-type {\n        vertical-align: middle;\n    }\n\n    .dataframe tbody tr th {\n        vertical-align: top;\n    }\n\n    .dataframe thead th {\n        text-align: right;\n    }\n</style>\n<table border=\"1\" class=\"dataframe\">\n  <thead>\n    <tr style=\"text-align: right;\">\n      <th></th>\n      <th>ds_comp</th>\n      <th>classification</th>\n      <th>arquivo</th>\n      <th>cod_per</th>\n    </tr>\n  </thead>\n  <tbody>\n    <tr>\n      <th>0</th>\n      <td>LÍNGUA PORTUGUESA</td>\n      <td>Abaixo do Básico</td>\n      <td>2011-01-01</td>\n      <td>1419</td>\n    </tr>\n    <tr>\n      <th>1</th>\n      <td>LÍNGUA PORTUGUESA</td>\n      <td>Abaixo do Básico</td>\n      <td>2012-01-01</td>\n      <td>1212</td>\n    </tr>\n    <tr>\n      <th>2</th>\n      <td>LÍNGUA PORTUGUESA</td>\n      <td>Abaixo do Básico</td>\n      <td>2013-01-01</td>\n      <td>2312</td>\n    </tr>\n    <tr>\n      <th>3</th>\n      <td>LÍNGUA PORTUGUESA</td>\n      <td>Abaixo do Básico</td>\n      <td>2014-01-01</td>\n      <td>1729</td>\n    </tr>\n    <tr>\n      <th>4</th>\n      <td>LÍNGUA PORTUGUESA</td>\n      <td>Abaixo do Básico</td>\n      <td>2015-01-01</td>\n      <td>1396</td>\n    </tr>\n    <tr>\n      <th>...</th>\n      <td>...</td>\n      <td>...</td>\n      <td>...</td>\n      <td>...</td>\n    </tr>\n    <tr>\n      <th>59</th>\n      <td>MATEMÁTICA</td>\n      <td>Avançado</td>\n      <td>2014-01-01</td>\n      <td>1478</td>\n    </tr>\n    <tr>\n      <th>60</th>\n      <td>MATEMÁTICA</td>\n      <td>Avançado</td>\n      <td>2015-01-01</td>\n      <td>1855</td>\n    </tr>\n    <tr>\n      <th>61</th>\n      <td>MATEMÁTICA</td>\n      <td>Avançado</td>\n      <td>2016-01-01</td>\n      <td>1041</td>\n    </tr>\n    <tr>\n      <th>62</th>\n      <td>MATEMÁTICA</td>\n      <td>Avançado</td>\n      <td>2017-01-01</td>\n      <td>1102</td>\n    </tr>\n    <tr>\n      <th>63</th>\n      <td>MATEMÁTICA</td>\n      <td>Avançado</td>\n      <td>2018-01-01</td>\n      <td>722</td>\n    </tr>\n  </tbody>\n</table>\n<p>64 rows × 4 columns</p>\n</div>",
      "text/plain": "              ds_comp    classification    arquivo  cod_per\n0   LÍNGUA PORTUGUESA  Abaixo do Básico 2011-01-01     1419\n1   LÍNGUA PORTUGUESA  Abaixo do Básico 2012-01-01     1212\n2   LÍNGUA PORTUGUESA  Abaixo do Básico 2013-01-01     2312\n3   LÍNGUA PORTUGUESA  Abaixo do Básico 2014-01-01     1729\n4   LÍNGUA PORTUGUESA  Abaixo do Básico 2015-01-01     1396\n..                ...               ...        ...      ...\n59         MATEMÁTICA          Avançado 2014-01-01     1478\n60         MATEMÁTICA          Avançado 2015-01-01     1855\n61         MATEMÁTICA          Avançado 2016-01-01     1041\n62         MATEMÁTICA          Avançado 2017-01-01     1102\n63         MATEMÁTICA          Avançado 2018-01-01      722\n\n[64 rows x 4 columns]"
     },
     "execution_count": 33,
     "metadata": {},
     "output_type": "execute_result"
    }
   ],
   "source": [
    "df_final['arquivo'] = pd.to_datetime(df_final['arquivo'],format='%Y')\n",
    "df_final.groupby(['ds_comp','classification','arquivo'])['cod_per'].count().reset_index()"
   ]
  },
  {
   "cell_type": "code",
   "execution_count": null,
   "metadata": {},
   "outputs": [],
   "source": []
  }
 ],
 "metadata": {
  "file_extension": ".py",
  "kernelspec": {
   "display_name": "Python 3.7.4 64-bit ('desafio_educa': virtualenv)",
   "language": "python",
   "name": "python37464bitdesafioeducavirtualenvd73460767d4f4808b69248692b50cb75"
  },
  "language_info": {
   "codemirror_mode": {
    "name": "ipython",
    "version": 3
   },
   "file_extension": ".py",
   "mimetype": "text/x-python",
   "name": "python",
   "nbconvert_exporter": "python",
   "pygments_lexer": "ipython3",
   "version": "3.7.4-final"
  },
  "mimetype": "text/x-python",
  "name": "python",
  "npconvert_exporter": "python",
  "pygments_lexer": "ipython3",
  "version": 3
 },
 "nbformat": 4,
 "nbformat_minor": 2
}